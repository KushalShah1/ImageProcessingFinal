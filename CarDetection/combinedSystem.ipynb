{
  "nbformat": 4,
  "nbformat_minor": 0,
  "metadata": {
    "colab": {
      "name": "main.ipynb",
      "provenance": [],
      "collapsed_sections": []
    },
    "kernelspec": {
      "name": "python3",
      "display_name": "Python 3"
    },
    "language_info": {
      "name": "python"
    }
  },
  "cells": [
    {
      "cell_type": "code",
      "metadata": {
        "colab": {
          "base_uri": "https://localhost:8080/"
        },
        "id": "dLprdXJ3j6bW",
        "outputId": "038ca104-861f-4fee-b105-aa2e0ea466ec"
      },
      "source": [
        "!pip install onnx onnxruntime"
      ],
      "execution_count": null,
      "outputs": [
        {
          "output_type": "stream",
          "name": "stdout",
          "text": [
            "Collecting onnx\n",
            "  Downloading onnx-1.10.2-cp37-cp37m-manylinux_2_12_x86_64.manylinux2010_x86_64.whl (12.7 MB)\n",
            "\u001b[K     |████████████████████████████████| 12.7 MB 4.3 MB/s \n",
            "\u001b[?25hCollecting onnxruntime\n",
            "  Downloading onnxruntime-1.9.0-cp37-cp37m-manylinux_2_17_x86_64.manylinux2014_x86_64.whl (4.8 MB)\n",
            "\u001b[K     |████████████████████████████████| 4.8 MB 44.0 MB/s \n",
            "\u001b[?25hRequirement already satisfied: typing-extensions>=3.6.2.1 in /usr/local/lib/python3.7/dist-packages (from onnx) (3.10.0.2)\n",
            "Requirement already satisfied: protobuf in /usr/local/lib/python3.7/dist-packages (from onnx) (3.17.3)\n",
            "Requirement already satisfied: numpy>=1.16.6 in /usr/local/lib/python3.7/dist-packages (from onnx) (1.19.5)\n",
            "Requirement already satisfied: six in /usr/local/lib/python3.7/dist-packages (from onnx) (1.15.0)\n",
            "Requirement already satisfied: flatbuffers in /usr/local/lib/python3.7/dist-packages (from onnxruntime) (2.0)\n",
            "Installing collected packages: onnxruntime, onnx\n",
            "Successfully installed onnx-1.10.2 onnxruntime-1.9.0\n"
          ]
        }
      ]
    },
    {
      "cell_type": "code",
      "metadata": {
        "id": "0EAG0oR5eK0S"
      },
      "source": [
        "import cv2\n",
        "import numpy as np\n",
        "from google.colab.patches import cv2_imshow\n",
        "import requests\n",
        "import onnx\n",
        "import onnxruntime\n",
        "import json\n",
        "import torchvision.transforms as transforms"
      ],
      "execution_count": null,
      "outputs": []
    },
    {
      "cell_type": "code",
      "metadata": {
        "id": "eTIb2gugdzY5"
      },
      "source": [
        "def getLicensePlate(img):\n",
        "  \n",
        "  return \"DH1C063\",\"TX\""
      ],
      "execution_count": null,
      "outputs": []
    },
    {
      "cell_type": "code",
      "metadata": {
        "id": "SVP5oo4itpRP"
      },
      "source": [
        "sess_car = onnxruntime.InferenceSession(\"./carModel1.onnx\", None)\n",
        "input_name_car = sess_car.get_inputs()[0].name\n",
        "output_name_car = sess_car.get_outputs()[0].name\n",
        "\n",
        "to_tensor_and_norm_car = transforms.Compose([\n",
        "  transforms.ToTensor(),\n",
        "  transforms.Normalize((0.485, 0.456, 0.406), (0.229, 0.224, 0.225)),\n",
        "])\n",
        "f = open(\"./carClasses.txt\",'r')\n",
        "classes = f.readline().replace('[','').replace(']','').replace(\"'\",'').strip().split(',')\n",
        "\n",
        "def getCarMakeModel(img):\n",
        "  img = cv2.resize(img, dsize=(224, 224), interpolation=cv2.INTER_AREA)\n",
        "  imgy = [to_tensor_and_norm_car(img).tolist()]\n",
        "\n",
        "  results = sess.run([output_name_car], {input_name_car: imgy})[0]\n",
        "\n",
        "  return(classes[np.argmax(results)])"
      ],
      "execution_count": null,
      "outputs": []
    },
    {
      "cell_type": "code",
      "metadata": {
        "id": "5grynLfggrlz"
      },
      "source": [
        "def getMakeModelFromLicensePlate(plate,state):\n",
        "  return \"TOYOTA\",\"Corolla\"\n",
        "  # res = requests.get(\"http://api.carsxe.com/platedecoder\",{\n",
        "  #     \"key\":\"t2yidqva7_bqqqj6bz1_nxa8snats\",\n",
        "  #     \"plate\":plate,\n",
        "  #     \"state\":state,\n",
        "  #     \"format\":\"json\"\n",
        "  # }).json()\n",
        "  # return res[\"CarMake\"],res[\"CarModel\"]"
      ],
      "execution_count": null,
      "outputs": []
    },
    {
      "cell_type": "code",
      "metadata": {
        "id": "5zOpn-kxeFDS"
      },
      "source": [
        "def main(img):\n",
        "  # cam = cv2.VideoCapture(0)\n",
        "\n",
        "  # while True:\n",
        "  #     check, frame = cam.read()\n",
        "\n",
        "  #     cv2_imshow(frame)\n",
        "\n",
        "  #     key = cv2.waitKey(1)\n",
        "  #     if key == 27:\n",
        "  #         break\n",
        "\n",
        "  # cam.release()\n",
        "  # cv2.destroyAllWindows()\n",
        "  license,state = getLicensePlate(img)\n",
        "  make, model = getMakeModelFromLicensePlate(license,state)\n",
        "  classToCheckFor = make.title()+\"_\"+model.title()\n",
        "  if(classToCheckFor in getCarMakeModel(img)):\n",
        "    return True\n",
        "  else:\n",
        "    return False"
      ],
      "execution_count": null,
      "outputs": []
    },
    {
      "cell_type": "code",
      "metadata": {
        "colab": {
          "base_uri": "https://localhost:8080/",
          "height": 35
        },
        "id": "_PqPhfye5j01",
        "outputId": "d4e01f8c-c26e-43d7-cc79-89ae5cecd92a"
      },
      "source": [
        "img = cv2.imread(\"./carimg1.jpeg\")\n",
        "getCarMakeModel(img)"
      ],
      "execution_count": null,
      "outputs": [
        {
          "output_type": "execute_result",
          "data": {
            "application/vnd.google.colaboratory.intrinsic+json": {
              "type": "string"
            },
            "text/plain": [
              "' MINI_Cooper'"
            ]
          },
          "metadata": {},
          "execution_count": 42
        }
      ]
    }
  ]
}