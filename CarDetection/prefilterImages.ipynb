{
  "cells": [
    {
      "cell_type": "code",
      "execution_count": null,
      "metadata": {
        "colab": {
          "base_uri": "https://localhost:8080/",
          "height": 34
        },
        "id": "PcdaKuzBHjOW",
        "outputId": "1a3e2525-93a4-424f-a0a3-641d240bee32"
      },
      "outputs": [
        {
          "name": "stdout",
          "output_type": "stream",
          "text": [
            "TensorFlow 2.x selected.\n"
          ]
        }
      ],
      "source": [
        "# Select TF2.x as version\n",
        "%tensorflow_version 2.x"
      ]
    },
    {
      "cell_type": "code",
      "execution_count": null,
      "metadata": {
        "colab": {
          "base_uri": "https://localhost:8080/",
          "height": 34
        },
        "id": "d2CxqXllHp8c",
        "outputId": "66164ea4-8e66-4a37-ca9b-a030818fc602"
      },
      "outputs": [
        {
          "name": "stderr",
          "output_type": "stream",
          "text": [
            "Using TensorFlow backend.\n"
          ]
        }
      ],
      "source": [
        "import tensorflow as tf\n",
        "import numpy as np\n",
        "import pandas as pd\n",
        "from keras.preprocessing.image import image\n",
        "from keras.applications.resnet_v2 import preprocess_input\n",
        "from tensorflow.keras.applications import ResNet50V2\n",
        "import os\n",
        "from shutil import copy2\n",
        "from random import sample, seed\n",
        "import gc\n",
        "\n",
        "from google.colab import drive"
      ]
    },
    {
      "cell_type": "code",
      "execution_count": null,
      "metadata": {
        "id": "whFbXYRSH5Nm"
      },
      "outputs": [],
      "source": [
        "# Class labels in imagenet corresponding to cars\n",
        "CAR_CLASSES = ['minivan', 'limousine', 'sports_car', 'convertible', 'cab', 'racer', 'passenger_car',\n",
        "               'recreational_vehicle', 'pickup', 'police_van', 'minibus', 'moving_van', 'tow_truck', 'jeep',\n",
        "               'landrover', 'beach_wagon']\n",
        "\n",
        "CAR_IDX = [656, 627, 817, 511, 468, 751, 705, 757, 717, 734, 654, 675, 864, 609, 436]"
      ]
    },
    {
      "cell_type": "code",
      "execution_count": null,
      "metadata": {
        "colab": {
          "base_uri": "https://localhost:8080/",
          "height": 122
        },
        "id": "-JFQdjjIIOJF",
        "outputId": "a84f4a26-8469-4a5d-c663-bc376aa9b2b8"
      },
      "outputs": [
        {
          "name": "stdout",
          "output_type": "stream",
          "text": [
            "Go to this URL in a browser: https://accounts.google.com/o/oauth2/auth?client_id=947318989803-6bn6qk8qdgf4n4g3pfee6491hc0brc4i.apps.googleusercontent.com&redirect_uri=urn%3aietf%3awg%3aoauth%3a2.0%3aoob&response_type=code&scope=email%20https%3a%2f%2fwww.googleapis.com%2fauth%2fdocs.test%20https%3a%2f%2fwww.googleapis.com%2fauth%2fdrive%20https%3a%2f%2fwww.googleapis.com%2fauth%2fdrive.photos.readonly%20https%3a%2f%2fwww.googleapis.com%2fauth%2fpeopleapi.readonly\n",
            "\n",
            "Enter your authorization code:\n",
            "··········\n",
            "Mounted at /content/drive\n"
          ]
        }
      ],
      "source": [
        "# Mount Google Drive for data\n",
        "drive.mount('/content/drive', force_remount=True)"
      ]
    },
    {
      "cell_type": "code",
      "execution_count": null,
      "metadata": {
        "id": "B44tQCZSIvxU"
      },
      "outputs": [],
      "source": [
        "!mkdir data\n",
        "!mkdir data/raw\n",
        "!cp drive/My\\ Drive/CarClassification/dataset.zip data"
      ]
    },
    {
      "cell_type": "code",
      "execution_count": null,
      "metadata": {
        "id": "EbNm5jlRJFxR"
      },
      "outputs": [],
      "source": [
        "!mkdir data/filtered\n",
        "\n",
        "!unzip -q data/dataset.zip -d data/raw"
      ]
    },
    {
      "cell_type": "code",
      "execution_count": null,
      "metadata": {
        "id": "UeArv1U3ICuN"
      },
      "outputs": [],
      "source": [
        "# Good values below 0.2, else too many cars out\n",
        "THRESH = 0.1\n",
        "IMAGE_DIR = 'data/raw/'  # Directory images are stored in\n",
        "STORAGE_DIR = 'filtered/'  # Directory to store split images"
      ]
    },
    {
      "cell_type": "code",
      "execution_count": null,
      "metadata": {
        "id": "yB88WePlJWHu"
      },
      "outputs": [],
      "source": [
        "def is_car_acc_prob(predictions, thresh=THRESH, car_idx=CAR_IDX):\n",
        "    \"\"\"\n",
        "    Determine if car on image by accumulating probabilities of car prediction and comparing to threshold\n",
        "\n",
        "    Args:\n",
        "        predictions: (?, 1000) matrix of probability predictions resulting from ResNet with imagenet weights\n",
        "        thresh: threshold accumulative probability over which an image is considered a car\n",
        "        car_idx: indices corresponding to cars\n",
        "\n",
        "    Returns:\n",
        "        np.array of booleans describing if car or not\n",
        "    \"\"\"\n",
        "    predictions = np.array(predictions, dtype=float)\n",
        "    car_probs = predictions[:, car_idx]\n",
        "    car_probs_acc = car_probs.sum(axis=1)\n",
        "    return car_probs_acc > thresh"
      ]
    },
    {
      "cell_type": "code",
      "execution_count": null,
      "metadata": {
        "id": "-tN4uLbPJXl_"
      },
      "outputs": [],
      "source": [
        "def load_images(filepath, filenames):\n",
        "    \"\"\"\n",
        "    Load images given in filenames to array format\n",
        "\n",
        "    Args:\n",
        "        filepath: directory files are stored in. Needed since filenames are passed relative\n",
        "        filenames: filenames of images of which array representation should be returned\n",
        "\n",
        "    Returns:\n",
        "        img_array: array of images\n",
        "    \"\"\"\n",
        "    img_array = []\n",
        "    for i, file in enumerate(filenames):\n",
        "        if i % 1000 == 0:\n",
        "            print(\"#\", end=\"\")\n",
        "        img = image.load_img(filepath + file, target_size=(224, 224))\n",
        "        # img = tf.image.resize_with_crop_or_pad(img, target_height=224, target_width=224)\n",
        "        img = image.img_to_array(img)\n",
        "\n",
        "        img_array.append(img)\n",
        "\n",
        "    return preprocess_input(np.asarray(img_array))"
      ]
    },
    {
      "cell_type": "code",
      "execution_count": null,
      "metadata": {
        "colab": {
          "base_uri": "https://localhost:8080/",
          "height": 34
        },
        "id": "qJgZuCoFKe0H",
        "outputId": "1f4b1ee5-d946-409c-c71d-d9ca83f53bcb"
      },
      "outputs": [
        {
          "name": "stdout",
          "output_type": "stream",
          "text": [
            "There are 64467 files to be processed...\n"
          ]
        }
      ],
      "source": [
        "# Filenames of all images\n",
        "files = os.listdir(IMAGE_DIR)\n",
        "\n",
        "# seed(32)\n",
        "# files = sample(files, 5000)\n",
        "\n",
        "total_files = len(files)\n",
        "\n",
        "print(\"There are {} files to be processed...\".format(total_files))"
      ]
    },
    {
      "cell_type": "code",
      "execution_count": null,
      "metadata": {
        "colab": {
          "base_uri": "https://localhost:8080/",
          "height": 51
        },
        "id": "JDZ142cKKjLS",
        "outputId": "5aee83ad-540a-41ee-c5ae-cfd829e4e460"
      },
      "outputs": [
        {
          "name": "stdout",
          "output_type": "stream",
          "text": [
            "Downloading data from https://github.com/keras-team/keras-applications/releases/download/resnet/resnet50v2_weights_tf_dim_ordering_tf_kernels.h5\n",
            "102875136/102869336 [==============================] - 3s 0us/step\n"
          ]
        }
      ],
      "source": [
        "# Initialize ResNet Model\n",
        "model = ResNet50V2(weights='imagenet')"
      ]
    },
    {
      "cell_type": "code",
      "execution_count": null,
      "metadata": {
        "colab": {
          "base_uri": "https://localhost:8080/",
          "height": 204
        },
        "id": "2YXWdY7OJheG",
        "outputId": "9c5e4b4c-e258-43e9-d616-00e8f9c7187c"
      },
      "outputs": [
        {
          "name": "stdout",
          "output_type": "stream",
          "text": [
            "0\n",
            "#######7000\n",
            "#######14000\n",
            "#######21000\n",
            "#######28000\n",
            "#######35000\n",
            "#######42000\n",
            "#######49000\n",
            "#######56000\n",
            "#######63000\n",
            "##"
          ]
        }
      ],
      "source": [
        "# Compute predictions chunkwise with explicit garbage collection\n",
        "gc.collect()\n",
        "n = 7000\n",
        "pred_list = []\n",
        "for i in range(0, len(files), n):\n",
        "  print(i)\n",
        "  img_array = load_images(IMAGE_DIR, files[i:min(i+n, len(files))])\n",
        "  preds = model.predict(img_array)\n",
        "  pred_list.append(preds)\n",
        "  del img_array\n",
        "  gc.collect()"
      ]
    },
    {
      "cell_type": "code",
      "execution_count": null,
      "metadata": {
        "id": "gGqUQzNlbL-P"
      },
      "outputs": [],
      "source": [
        "preds = np.concatenate(pred_list, axis=0)"
      ]
    },
    {
      "cell_type": "code",
      "execution_count": null,
      "metadata": {
        "id": "1CImXVwddBzb"
      },
      "outputs": [],
      "source": [
        "assert(preds.shape[0] == len(files))"
      ]
    },
    {
      "cell_type": "code",
      "execution_count": null,
      "metadata": {
        "id": "PrKNNpF0YOtc"
      },
      "outputs": [],
      "source": [
        "res = is_car_acc_prob(preds)\n",
        "\n",
        "df = pd.Series(res, index=files)"
      ]
    },
    {
      "cell_type": "code",
      "execution_count": null,
      "metadata": {
        "colab": {
          "base_uri": "https://localhost:8080/",
          "height": 34
        },
        "id": "4e87vtPtgI4v",
        "outputId": "88d86068-f0e6-4e72-e87d-0edb9c9649d8"
      },
      "outputs": [
        {
          "data": {
            "text/plain": [
              "53783"
            ]
          },
          "execution_count": 17,
          "metadata": {
            "tags": []
          },
          "output_type": "execute_result"
        }
      ],
      "source": [
        "df.sum()"
      ]
    },
    {
      "cell_type": "code",
      "execution_count": null,
      "metadata": {
        "colab": {
          "base_uri": "https://localhost:8080/",
          "height": 71
        },
        "id": "YlHaa3aFDIx2",
        "outputId": "1fbcb73c-f0c9-486a-b527-b6a2286d7fd5"
      },
      "outputs": [
        {
          "name": "stderr",
          "output_type": "stream",
          "text": [
            "/usr/local/lib/python3.6/dist-packages/ipykernel_launcher.py:3: FutureWarning: The signature of `Series.to_csv` was aligned to that of `DataFrame.to_csv`, and argument 'header' will change its default value from False to True: please pass an explicit value to suppress this warning.\n",
            "  This is separate from the ipykernel package so we can avoid doing imports until\n"
          ]
        }
      ],
      "source": [
        "storage_dir_ext = STORAGE_DIR + 'thresh' + str(THRESH).replace('.', '_') + '/'\n",
        "\n",
        "df.to_csv(storage_dir_ext + 'filenames_with_car_flags_bw_added.csv')"
      ]
    }
  ],
  "metadata": {
    "accelerator": "GPU",
    "colab": {
      "collapsed_sections": [],
      "name": "Copy of prefilter.ipynb",
      "provenance": []
    },
    "kernelspec": {
      "display_name": "Python 3",
      "name": "python3"
    }
  },
  "nbformat": 4,
  "nbformat_minor": 0
}
